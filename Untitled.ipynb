{
 "cells": [
  {
   "cell_type": "code",
   "execution_count": 3,
   "id": "48e0562b",
   "metadata": {},
   "outputs": [],
   "source": [
    "import numpy as np\n",
    "# import geopandas as gpd\n",
    "import xarray as xr\n",
    "import matplotlib.pyplot as plt\n",
    "import pandas as pd\n",
    "import warnings\n",
    "import datetime\n",
    "from datetime import datetime\n",
    "import dateutil\n",
    "import os\n",
    "import calendar\n",
    "import pymannkendall as mk\n",
    "import itertools\n",
    "import os\n",
    "import matplotlib.pyplot as plt\n",
    "import cartopy.crs as ccrs\n",
    "import cartopy.feature as cfeature\n",
    "import math\n",
    "import matplotlib.gridspec as gridspec"
   ]
  },
  {
   "cell_type": "code",
   "execution_count": 2,
   "id": "5f6c2b96",
   "metadata": {},
   "outputs": [
    {
     "name": "stdout",
     "output_type": "stream",
     "text": [
      "Defaulting to user installation because normal site-packages is not writeable\n",
      "Requirement already satisfied: xarray in /geode2/home/u010/alpande/Quartz/.local/lib/python3.10/site-packages (2024.5.0)\n",
      "Requirement already satisfied: numpy>=1.23 in /geode2/home/u010/alpande/Quartz/.local/lib/python3.10/site-packages (from xarray) (1.24.4)\n",
      "Requirement already satisfied: packaging>=23.1 in /geode2/home/u010/alpande/Quartz/.local/lib/python3.10/site-packages (from xarray) (24.0)\n",
      "Requirement already satisfied: pandas>=2.0 in /geode2/home/u010/alpande/Quartz/.local/lib/python3.10/site-packages (from xarray) (2.2.2)\n",
      "Requirement already satisfied: pytz>=2020.1 in /geode2/soft/hps/rhel8/python/gnu/3.10.5/lib/python3.10/site-packages (from pandas>=2.0->xarray) (2022.1)\n",
      "Requirement already satisfied: python-dateutil>=2.8.2 in /geode2/soft/hps/rhel8/python/gnu/3.10.5/lib/python3.10/site-packages (from pandas>=2.0->xarray) (2.8.2)\n",
      "Requirement already satisfied: tzdata>=2022.7 in /geode2/home/u010/alpande/Quartz/.local/lib/python3.10/site-packages (from pandas>=2.0->xarray) (2024.1)\n",
      "Requirement already satisfied: six>=1.5 in /geode2/soft/hps/rhel8/python/gnu/3.10.5/lib/python3.10/site-packages (from python-dateutil>=2.8.2->pandas>=2.0->xarray) (1.16.0)\n",
      "Note: you may need to restart the kernel to use updated packages.\n",
      "Defaulting to user installation because normal site-packages is not writeable\n",
      "Requirement already satisfied: netCDF4 in /geode2/home/u010/alpande/Quartz/.local/lib/python3.10/site-packages (1.6.5)\n",
      "Requirement already satisfied: cftime in /geode2/home/u010/alpande/Quartz/.local/lib/python3.10/site-packages (from netCDF4) (1.6.3)\n",
      "Requirement already satisfied: numpy in /geode2/home/u010/alpande/Quartz/.local/lib/python3.10/site-packages (from netCDF4) (1.24.4)\n",
      "Requirement already satisfied: certifi in /geode2/soft/hps/rhel8/python/gnu/3.10.5/lib/python3.10/site-packages (from netCDF4) (2022.5.18.1)\n",
      "Note: you may need to restart the kernel to use updated packages.\n"
     ]
    }
   ],
   "source": [
    "%pip install xarray\n",
    "%pip install netCDF4"
   ]
  },
  {
   "cell_type": "code",
   "execution_count": 4,
   "id": "18ab2df4",
   "metadata": {},
   "outputs": [],
   "source": [
    "FreqCountDF = xr.open_dataset('./data/Event Data/FreqCountDF.nc')\n",
    "FreqCountFD = xr.open_dataset('./data/Event Data/FreqCountFD.nc')\n",
    "FreqCountDFD = xr.open_dataset('./data/Event Data/FreqCountDFD.nc')\n",
    "FreqCountFDF = xr.open_dataset('./data/Event Data/FreqCountFDF.nc')\n",
    "ds_df = xr.open_dataset('data/nclimgrid-spei-gamma-01.nc')\n",
    "dfaami = xr.open_dataset('./data/dfaami_01.nc')\n",
    "mi = xr.open_dataset('./data/mi_01.nc')"
   ]
  },
  {
   "cell_type": "code",
   "execution_count": 5,
   "id": "3c75526f",
   "metadata": {},
   "outputs": [],
   "source": [
    "mfm_df_01 = xr.open_dataset('./data/mfm/df/mfm_df_1895_1924.nc').drop_encoding()\n",
    "mfm_df_02 = xr.open_dataset('./data/mfm/df/mfm_df_1925_1954.nc').drop_encoding()\n",
    "mfm_df_03 = xr.open_dataset('./data/mfm/df/mfm_df_1955_1984.nc').drop_encoding()\n",
    "mfm_df_04 = xr.open_dataset('./data/mfm/df/mfm_df_1985_2023.nc').drop_encoding()\n",
    "\n",
    "mfm_fd_01 = xr.open_dataset('./data/mfm/fd/mfm_fd_1895_1924').drop_encoding()\n",
    "mfm_fd_02 = xr.open_dataset('./data/mfm/fd/mfm_fd_1925_1954.nc').drop_encoding()\n",
    "mfm_fd_03 = xr.open_dataset('./data/mfm/fd/mfm_fd_1955_1984.nc').drop_encoding()\n",
    "mfm_fd_04 = xr.open_dataset('./data/mfm/fd/mfm_fd_1985_2023.nc').drop_encoding()\n",
    "\n",
    "mfm_dfd_01 = xr.open_dataset('./data/mfm/dfd/mfm_dfd_1895_1924.nc').drop_encoding()\n",
    "mfm_dfd_02 = xr.open_dataset('./data/mfm/dfd/mfm_dfd_1925_1954.nc').drop_encoding()\n",
    "mfm_dfd_03 = xr.open_dataset('./data/mfm/dfd/mfm_dfd_1955_1984.nc').drop_encoding()\n",
    "mfm_dfd_04 = xr.open_dataset('./data/mfm/dfd/mfm_dfd_1985_2023.nc').drop_encoding()\n",
    "\n",
    "mfm_fdf_01 = xr.open_dataset('./data/mfm/fdf/mfm_fdf_1895_1924.nc').drop_encoding()\n",
    "mfm_fdf_02 = xr.open_dataset('./data/mfm/fdf/mfm_fdf_1925_1954.nc').drop_encoding()\n",
    "mfm_fdf_03 = xr.open_dataset('./data/mfm/fdf/mfm_fdf_1955_1984.nc').drop_encoding()\n",
    "mfm_fdf_04 = xr.open_dataset('./data/mfm/fdf/mfm_fdf_1985_2023.nc').drop_encoding()\n"
   ]
  },
  {
   "cell_type": "code",
   "execution_count": null,
   "id": "ef04b859",
   "metadata": {},
   "outputs": [],
   "source": []
  }
 ],
 "metadata": {
  "kernelspec": {
   "display_name": "spei01",
   "language": "python",
   "name": "spei01"
  },
  "language_info": {
   "codemirror_mode": {
    "name": "ipython",
    "version": 3
   },
   "file_extension": ".py",
   "mimetype": "text/x-python",
   "name": "python",
   "nbconvert_exporter": "python",
   "pygments_lexer": "ipython3",
   "version": "3.10.5"
  }
 },
 "nbformat": 4,
 "nbformat_minor": 5
}
